{
 "cells": [
  {
   "cell_type": "code",
   "execution_count": 1,
   "id": "5fdae531",
   "metadata": {},
   "outputs": [],
   "source": [
    "import torch \n",
    "import torch.nn as nn\n",
    "from torch.utils.data import DataLoader,Dataset\n",
    "from sklearn.datasets import load_iris\n",
    "from sklearn.model_selection import train_test_split\n",
    "from sklearn.metrics import accuracy_score\n",
    "import seaborn as sns "
   ]
  },
  {
   "cell_type": "markdown",
   "id": "9970c318",
   "metadata": {},
   "source": [
    "# data import\n"
   ]
  },
  {
   "cell_type": "code",
   "execution_count": 2,
   "id": "06ac61e6",
   "metadata": {},
   "outputs": [],
   "source": [
    "iris = load_iris()\n",
    "X = iris.data\n",
    "y = iris.target"
   ]
  },
  {
   "cell_type": "markdown",
   "id": "7b03ce67",
   "metadata": {},
   "source": [
    "#  train test split"
   ]
  },
  {
   "cell_type": "code",
   "execution_count": 3,
   "id": "245dbf75",
   "metadata": {},
   "outputs": [],
   "source": [
    "X_train ,X_test ,y_train , y_test = train_test_split(X, y ,test_size=0.2, random_state=42 , stratify=y)"
   ]
  },
  {
   "cell_type": "code",
   "execution_count": 4,
   "id": "19e25463",
   "metadata": {},
   "outputs": [],
   "source": [
    "#convert to float32\n",
    "X_train = X_train.astype(\"float32\")\n",
    "X_test = X_test.astype(\"float32\")"
   ]
  },
  {
   "cell_type": "markdown",
   "id": "4d016bd3",
   "metadata": {},
   "source": [
    "# Preprocessing"
   ]
  },
  {
   "cell_type": "code",
   "execution_count": 5,
   "id": "f27bfd3b",
   "metadata": {},
   "outputs": [],
   "source": [
    "class irisdataset(Dataset):\n",
    "  def __init__(self , X_train , y_train):\n",
    "        super().__init__()\n",
    "        self.X = torch.from_numpy(X_train)\n",
    "        self.y = torch.from_numpy(y_train)\n",
    "        self.y = self.y.type(torch.LongTensor)\n",
    "        self.len = self.X.shape[0]\n",
    "    \n",
    "  def __getitem__(self , index):   \n",
    "      return self.X[index] , self.y[index]\n",
    "  \n",
    "  def __len__(self):\n",
    "      return self.len\n",
    "    \n",
    "    "
   ]
  },
  {
   "cell_type": "code",
   "execution_count": 6,
   "id": "a5f3061f",
   "metadata": {},
   "outputs": [],
   "source": [
    "iris_data = irisdataset(X_train=X_train, y_train=y_train)\n"
   ]
  },
  {
   "cell_type": "code",
   "execution_count": 7,
   "id": "c5af07b5",
   "metadata": {},
   "outputs": [],
   "source": [
    "train_loder = DataLoader(dataset=iris_data, batch_size=32 , shuffle=True)"
   ]
  },
  {
   "cell_type": "code",
   "execution_count": 8,
   "id": "f5291678",
   "metadata": {},
   "outputs": [
    {
     "name": "stdout",
     "output_type": "stream",
     "text": [
      "X Shape: torch.Size([120, 4]), y shape: torch.Size([120])\n"
     ]
    }
   ],
   "source": [
    "print(f\"X Shape: {iris_data.X.shape}, y shape: {iris_data.y.shape}\")\n"
   ]
  },
  {
   "cell_type": "markdown",
   "id": "4e316341",
   "metadata": {},
   "source": [
    "# Modelcreate "
   ]
  },
  {
   "cell_type": "code",
   "execution_count": 9,
   "id": "4421c459",
   "metadata": {},
   "outputs": [],
   "source": [
    "class MultiClassnn(nn.Module):\n",
    "    def __init__(self , num_features,num_classes,hidden_size):\n",
    "        super().__init__()\n",
    "        self.fc1 = nn.Linear(num_features , hidden_size)\n",
    "        self.fc2  = nn.Linear(hidden_size , num_classes) \n",
    "        self.logsoftmax = nn.LogSoftmax(dim=1)\n",
    "    \n",
    "    def forward(self , X):\n",
    "        X = self.fc1(X)\n",
    "        X = torch.relu(X) \n",
    "        X = self.fc2(X)\n",
    "        X = self.logsoftmax(X)\n",
    "        return X\n",
    "    \n",
    "        \n",
    "            "
   ]
  },
  {
   "cell_type": "code",
   "execution_count": 10,
   "id": "ec36dbfd",
   "metadata": {},
   "outputs": [],
   "source": [
    "num_features = iris_data.X.shape[1]\n",
    "hidden_size = 5 \n",
    "num_classes = len(iris_data.y.unique()) \n",
    "lr = 0.01\n",
    "num_epochs = 100"
   ]
  },
  {
   "cell_type": "code",
   "execution_count": 11,
   "id": "770d633f",
   "metadata": {},
   "outputs": [
    {
     "data": {
      "text/plain": [
       "3"
      ]
     },
     "execution_count": 11,
     "metadata": {},
     "output_type": "execute_result"
    }
   ],
   "source": [
    "num_classes\n"
   ]
  },
  {
   "cell_type": "code",
   "execution_count": 12,
   "id": "2db5d6b8",
   "metadata": {},
   "outputs": [
    {
     "data": {
      "text/plain": [
       "4"
      ]
     },
     "execution_count": 12,
     "metadata": {},
     "output_type": "execute_result"
    }
   ],
   "source": [
    "num_features"
   ]
  },
  {
   "cell_type": "code",
   "execution_count": 59,
   "id": "1e35d56f",
   "metadata": {},
   "outputs": [],
   "source": [
    "#hyper parameters\n",
    "model = MultiClassnn(num_features=num_features , num_classes=num_classes , hidden_size=hidden_size)"
   ]
  },
  {
   "cell_type": "code",
   "execution_count": 60,
   "id": "40d9e9ef",
   "metadata": {},
   "outputs": [],
   "source": [
    "#loss function \n",
    "criterion = nn.CrossEntropyLoss()\n",
    "#optimizer\n",
    "optimizer = torch.optim.Adam(model.parameters() , lr=lr)"
   ]
  },
  {
   "cell_type": "code",
   "execution_count": 64,
   "id": "c0195373",
   "metadata": {},
   "outputs": [],
   "source": [
    "losses = []\n",
    "for epoch in range (num_epochs):\n",
    "    for x,y in train_loder:\n",
    "        \n",
    "      optimizer.zero_grad()\n",
    "      #forward pass \n",
    "      y_pred = model(X=x)\n",
    "      \n",
    "      #calculate loss\n",
    "      loss =criterion(y_pred , y )\n",
    "      \n",
    "      #backword pass\n",
    "      loss.backward()\n",
    "      \n",
    "      \n",
    "      #updtae weights\n",
    "      optimizer.step()\n",
    "      \n",
    "    losses.append(float(loss.data.detach().numpy()))\n",
    "      \n",
    "            "
   ]
  },
  {
   "cell_type": "code",
   "execution_count": 65,
   "id": "06925373",
   "metadata": {},
   "outputs": [
    {
     "data": {
      "image/png": "[encoded data removed]",
      "text/plain": [
       "<Figure size 640x480 with 1 Axes>"
      ]
     },
     "metadata": {},
     "output_type": "display_data"
    }
   ],
   "source": [
    "sns.lineplot(x= range(len(losses)), y = losses)\n",
    "import matplotlib.pyplot as plt\n",
    "plt.xlabel(\"Epochs\")\n",
    "plt.ylabel(\"Loss\")\n",
    "plt.title(\"Loss vs Epochs\")\n",
    "plt.show()\n"
   ]
  },
  {
   "cell_type": "markdown",
   "id": "9ae6fb96",
   "metadata": {},
   "source": [
    "# test the model"
   ]
  },
  {
   "cell_type": "code",
   "execution_count": 67,
   "id": "8b320d7e",
   "metadata": {},
   "outputs": [],
   "source": [
    "#test the model\n",
    "test_tensor = torch.from_numpy(X_test)\n"
   ]
  },
  {
   "cell_type": "code",
   "execution_count": 76,
   "id": "7e51e730",
   "metadata": {},
   "outputs": [],
   "source": [
    "with torch.no_grad():\n",
    "    y_pred_test = model(test_tensor)\n",
    "    y_pred_test = torch.max(y_pred_test.data , dim =1)\n",
    "    "
   ]
  },
  {
   "cell_type": "code",
   "execution_count": 78,
   "id": "a184023b",
   "metadata": {},
   "outputs": [
    {
     "data": {
      "text/plain": [
       "0.9666666666666667"
      ]
     },
     "execution_count": 78,
     "metadata": {},
     "output_type": "execute_result"
    }
   ],
   "source": [
    "accuracy = accuracy_score(y_test ,y_pred_test.indices)\n",
    "accuracy"
   ]
  },
  {
   "cell_type": "markdown",
   "id": "cd44521c",
   "metadata": {},
   "source": [
    "# save the model"
   ]
  },
  {
   "cell_type": "code",
   "execution_count": 79,
   "id": "e94fcef5",
   "metadata": {},
   "outputs": [],
   "source": [
    "torch.save(model.state_dict(), 'model_iris.pt')\n"
   ]
  },
  {
   "cell_type": "code",
   "execution_count": null,
   "id": "6f297432",
   "metadata": {},
   "outputs": [],
   "source": []
  }
 ],
 "metadata": {
  "kernelspec": {
   "display_name": "pytorch",
   "language": "python",
   "name": "python3"
  },
  "language_info": {
   "codemirror_mode": {
    "name": "ipython",
    "version": 3
   },
   "file_extension": ".py",
   "mimetype": "text/x-python",
   "name": "python",
   "nbconvert_exporter": "python",
   "pygments_lexer": "ipython3",
   "version": "3.11.6"
  }
 },
 "nbformat": 4,
 "nbformat_minor": 5
}
